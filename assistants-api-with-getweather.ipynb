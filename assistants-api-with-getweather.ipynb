{
 "cells": [
  {
   "cell_type": "markdown",
   "metadata": {},
   "source": [
    "# Azure OpenAI + ロジックアプリ (Logic Apps) で天気を取得する (実行編)\n"
   ]
  },
  {
   "cell_type": "markdown",
   "metadata": {},
   "source": [
    "<p>始める前にカーネルの再起動を実施します</p>\n",
    "\n",
    "**画面上部** にある`再起動`👆 を押下</br>👇 の「再起動」は **スクリーンショット** です\n",
    "\n",
    "![カーネルの再起動](./docs/images/karnel-reboot.png)\n"
   ]
  },
  {
   "cell_type": "markdown",
   "metadata": {},
   "source": [
    "## アシスタントと ロジック アプリの実行\n",
    "\n",
    "### この例では、天気のデータを使って今日の天気を Azure Open AI に回答させます。\n",
    "\n",
    "#### シーケンス図は以下のとおり\n",
    "\n",
    "```mermaid\n",
    "sequenceDiagram\n",
    "    autonumber\n",
    "    actor me\n",
    "    participant VSCode (Notebook)\n",
    "    participant Azure OpenAI Service\n",
    "    participant Logic Apps\n",
    "    participant MSN Weather\n",
    "\n",
    "    me ->> +VSCode (Notebook):  今日の東京都港区港南の天気を教えてください\n",
    "    VSCode (Notebook)->> +Azure OpenAI Service: 今日の東京都港区港南の天気を教えてください\n",
    "    loop HealthCheck\n",
    "        VSCode (Notebook)->>+VSCode (Notebook): Azure OpenAI Service 確認中\n",
    "\n",
    "        Note left of Azure OpenAI Service: requires_action\n",
    "        Azure OpenAI Service->> -VSCode (Notebook): 東京都港区港南\n",
    "        VSCode (Notebook)->>+Logic Apps: 東京都港区港南\n",
    "        Logic Apps->>+MSN Weather: 東京都港区港南\n",
    "        MSN Weather->>-Logic Apps: {\"responses\": {\"daily\": {\"day\":      {\"cap\":\"Mostlysunny\",...{        \"cap\": \"Mostly sunny\",   ...\n",
    "        Logic Apps->>-VSCode (Notebook): {\"responses\": {\"daily\": {\"day\":      {\"cap\":\"Mostlysunny\",...{        \"cap\": \"Mostly sunny\",   ...\n",
    "        VSCode (Notebook)->>+Azure OpenAI Service: {\"responses\": {\"daily\": {\"day\":      {\"cap\":\"Mostlysunny\",...{        \"cap\": \"Mostly sunny\",   ...\n",
    "        Azure OpenAI Service->>-VSCode (Notebook): 今日の東京都港区港南の天気は晴れです。\n",
    "        VSCode (Notebook)->>-VSCode (Notebook): Azure OpenAI Service 確認完了\n",
    "    end\n",
    "    VSCode (Notebook)->>+Azure OpenAI Service: 対象スレッドから応答メッセージの取得要求\n",
    "    Azure OpenAI Service->>-VSCode (Notebook)　: 対象スレッドから応答メッセージの応答\n",
    "    VSCode (Notebook)->>-me: 今日の東京都港区港南の天気は晴れです。\n",
    "```\n"
   ]
  },
  {
   "cell_type": "markdown",
   "metadata": {},
   "source": [
    "#### このパートは Python で必要なライブラリをインポートし、Azure OpenAI のインスタンスを作成\n"
   ]
  },
  {
   "cell_type": "code",
   "execution_count": 1,
   "metadata": {},
   "outputs": [],
   "source": [
    "import os\n",
    "import json\n",
    "from openai import AzureOpenAI\n",
    "from dotenv import load_dotenv\n",
    "from typing import Optional\n",
    "\n",
    "load_dotenv(verbose=True)\n",
    "\n",
    "\n",
    "client = AzureOpenAI(\n",
    "    api_key=os.getenv(\"AZURE_OPENAI_API_KEY\"),\n",
    "    api_version=\"2024-05-01-preview\",\n",
    "    azure_endpoint=os.getenv(\"AZURE_OPENAI_ENDPOINT\"),\n",
    ")"
   ]
  },
  {
   "cell_type": "markdown",
   "metadata": {},
   "source": [
    "#### スレッドの完了待ち\n",
    "\n",
    "##### この関数は Azure OpenAI からの回答が到着し、Assitant API のスレッドの状態を確認する。スレッドのステータスが `requires_action` となった場合、しかるべき Function を実行する</p>\n",
    "\n",
    "下図水色の部分の実装\n",
    "\n",
    "```mermaid\n",
    "sequenceDiagram\n",
    "    autonumber\n",
    "    actor me\n",
    "    participant VSCode (Notebook)\n",
    "    participant Azure OpenAI Service\n",
    "    participant Logic Apps\n",
    "    participant MSN Weather\n",
    "\n",
    "    me ->> +VSCode (Notebook):  今日の東京都港区港南の天気を教えてください\n",
    "    VSCode (Notebook)->> +Azure OpenAI Service: 今日の東京都港区港南の天気を教えてください\n",
    "    loop HealthCheck\n",
    "        rect rgb(191, 223, 255)\n",
    "            VSCode (Notebook)->>+VSCode (Notebook): Azure OpenAI Service 確認中\n",
    "            Note left of Azure OpenAI Service: requires_action\n",
    "            Azure OpenAI Service->> -VSCode (Notebook): 東京都港区港南\n",
    "            VSCode (Notebook)->>+Logic Apps: 東京都港区港南\n",
    "            Logic Apps->>+MSN Weather: 東京都港区港南\n",
    "            MSN Weather->>-Logic Apps: {\"responses\": {\"daily\": {\"day\":      {\"cap\":\"Mostlysunny\",...{        \"cap\": \"Mostly sunny\",   ...\n",
    "            Logic Apps->>-VSCode (Notebook): {\"responses\": {\"daily\": {\"day\":      {\"cap\":\"Mostlysunny\",...{        \"cap\": \"Mostly sunny\",   ...\n",
    "            VSCode (Notebook)->>+Azure OpenAI Service: {\"responses\": {\"daily\": {\"day\":      {\"cap\":\"Mostlysunny\",...{        \"cap\": \"Mostly sunny\",   ...\n",
    "            Azure OpenAI Service->>-VSCode (Notebook): 今日の東京都港区港南の天気は晴れです。\n",
    "            VSCode (Notebook)->>-VSCode (Notebook): Azure OpenAI Service 確認完了\n",
    "        end\n",
    "    end\n",
    "    VSCode (Notebook)->>+Azure OpenAI Service: 対象スレッドから応答メッセージの取得要求\n",
    "    Azure OpenAI Service->>-VSCode (Notebook)　: 対象スレッドから応答メッセージの応答\n",
    "    VSCode (Notebook)->>-me: 今日の東京都港区港南の天気は晴れです。\n",
    "```\n"
   ]
  },
  {
   "cell_type": "code",
   "execution_count": null,
   "metadata": {},
   "outputs": [],
   "source": [
    "def poll_run_till_completion(\n",
    "    client: AzureOpenAI,\n",
    "    thread_id: str,\n",
    "    run_id: str,\n",
    "    available_functions: dict,\n",
    "    verbose: bool,\n",
    "    max_steps: int = 10,\n",
    "    wait: int = 3,\n",
    ") -> None:\n",
    "    import time\n",
    "\n",
    "    \"\"\"\n",
    "    Poll a run until it is completed or failed or exceeds a certain number of iterations (MAX_STEPS)\n",
    "    with a preset wait in between polls\n",
    "\n",
    "     client: Azure OpenAI client\n",
    "     thread_id: Thread ID\n",
    "     run_id: Run ID\n",
    "     assistant_id: Assistant ID\n",
    "     verbose: Print verbose output\n",
    "     max_steps: Maximum number of steps to poll\n",
    "     wait: Wait time in seconds between polls\n",
    "\n",
    "    \"\"\"\n",
    "\n",
    "    if (client is None and thread_id is None) or run_id is None:\n",
    "        print(\"Client, Thread ID and Run ID are required.\")\n",
    "        return\n",
    "    try:\n",
    "        cnt = 0\n",
    "        while cnt < max_steps:\n",
    "            run = client.beta.threads.runs.retrieve(thread_id=thread_id, run_id=run_id)\n",
    "            if verbose:\n",
    "                print(\"Poll {}: {}\".format(cnt, run.status))\n",
    "            cnt += 1\n",
    "            if run.status == \"requires_action\":\n",
    "                tool_responses = []\n",
    "                if (\n",
    "                    run.required_action.type == \"submit_tool_outputs\"\n",
    "                    and run.required_action.submit_tool_outputs.tool_calls is not None\n",
    "                ):\n",
    "                    tool_calls = run.required_action.submit_tool_outputs.tool_calls\n",
    "\n",
    "                    for call in tool_calls:\n",
    "                        if call.type == \"function\":\n",
    "                            if call.function.name not in available_functions:\n",
    "                                raise Exception(\n",
    "                                    \"Function requested by the model does not exist\"\n",
    "                                )\n",
    "                            function_to_call = available_functions[call.function.name]\n",
    "                            tool_response = function_to_call(\n",
    "                                **json.loads(call.function.arguments)\n",
    "                            )\n",
    "                            tool_responses.append(\n",
    "                                {\"tool_call_id\": call.id, \"output\": tool_response}\n",
    "                            )\n",
    "\n",
    "                run = client.beta.threads.runs.submit_tool_outputs(\n",
    "                    thread_id=thread_id, run_id=run.id, tool_outputs=tool_responses\n",
    "                )\n",
    "            if run.status == \"failed\":\n",
    "                print(\"Run failed.\")\n",
    "                break\n",
    "            if run.status == \"completed\":\n",
    "                break\n",
    "            time.sleep(wait)\n",
    "\n",
    "    except Exception as e:\n",
    "        print(e)"
   ]
  },
  {
   "cell_type": "markdown",
   "metadata": {},
   "source": [
    "#### 応答メッセージの解析\n",
    "\n",
    "##### Azure OpenAI からへのスレッドから実施したスレッド ID をパラメータとし、要求に対する回答をスレッドから手に入れる\n",
    "\n",
    "下図水色の部分の実装\n",
    "\n",
    "```mermaid\n",
    "sequenceDiagram\n",
    "    autonumber\n",
    "    actor me\n",
    "    participant VSCode (Notebook)\n",
    "    participant Azure OpenAI Service\n",
    "    participant Logic Apps\n",
    "    participant MSN Weather\n",
    "\n",
    "    me ->> +VSCode (Notebook):  今日の東京都港区港南の天気を教えてください\n",
    "    VSCode (Notebook)->> +Azure OpenAI Service: 今日の東京都港区港南の天気を教えてください\n",
    "    loop HealthCheck\n",
    "\n",
    "        VSCode (Notebook)->>+VSCode (Notebook): Azure OpenAI Service 確認中\n",
    "        Note left of Azure OpenAI Service: requires_action\n",
    "        Azure OpenAI Service->> -VSCode (Notebook): 東京都港区港南\n",
    "        VSCode (Notebook)->>+Logic Apps: 東京都港区港南\n",
    "        Logic Apps->>+MSN Weather: 東京都港区港南\n",
    "        MSN Weather->>-Logic Apps: {\"responses\": {\"daily\": {\"day\":      {\"cap\":\"Mostlysunny\",...{        \"cap\": \"Mostly sunny\",   ...\n",
    "        Logic Apps->>-VSCode (Notebook): {\"responses\": {\"daily\": {\"day\":      {\"cap\":\"Mostlysunny\",...{        \"cap\": \"Mostly sunny\",   ...\n",
    "        VSCode (Notebook)->>+Azure OpenAI Service: {\"responses\": {\"daily\": {\"day\":      {\"cap\":\"Mostlysunny\",...{        \"cap\": \"Mostly sunny\",   ...\n",
    "        Azure OpenAI Service->>-VSCode (Notebook): 今日の東京都港区港南の天気は晴れです。\n",
    "        VSCode (Notebook)->>-VSCode (Notebook): Azure OpenAI Service 確認完了\n",
    "    end\n",
    "    rect rgb(191, 223, 255)\n",
    "        VSCode (Notebook)->>+Azure OpenAI Service: 対象スレッドから応答メッセージの取得要求\n",
    "        Azure OpenAI Service->>-VSCode (Notebook)　: 対象スレッドから応答メッセージの応答\n",
    "        VSCode (Notebook)->>-me: 今日の東京都港区港南の天気は晴れです。\n",
    "    end\n",
    "```\n"
   ]
  },
  {
   "cell_type": "code",
   "execution_count": null,
   "metadata": {},
   "outputs": [],
   "source": [
    "def retrieve_and_print_messages(\n",
    "    client: AzureOpenAI, thread_id: str, verbose: bool, out_dir: Optional[str] = None\n",
    ") -> any:\n",
    "    \"\"\"\n",
    "    Retrieve a list of messages in a thread and print it out with the query and response\n",
    "\n",
    "     client: OpenAI client\n",
    "     thread_id: Thread ID\n",
    "     verbose: Print verbose output\n",
    "     out_dir: Output directory to save images\n",
    "    @return: Messages object\n",
    "\n",
    "    \"\"\"\n",
    "    from pathlib import Path\n",
    "\n",
    "    if client is None and thread_id is None:\n",
    "        print(\"Client and Thread ID are required.\")\n",
    "        return None\n",
    "    try:\n",
    "        messages = client.beta.threads.messages.list(thread_id=thread_id)\n",
    "        display_role = {\"user\": \"User query\", \"assistant\": \"Assistant response\"}\n",
    "\n",
    "        prev_role = None\n",
    "\n",
    "        if verbose:\n",
    "            print(\"\\n\\nCONVERSATION:\")\n",
    "        for md in reversed(messages.data):\n",
    "            if prev_role == \"assistant\" and md.role == \"user\" and verbose:\n",
    "                print(\"------ \\n\")\n",
    "\n",
    "            for mc in md.content:\n",
    "                # Check if valid text field is present in the mc object\n",
    "                if mc.type == \"text\":\n",
    "                    txt_val = mc.text.value\n",
    "                # Check if valid image field is present in the mc object\n",
    "                elif mc.type == \"image_file\":\n",
    "                    image_data = client.files.content(mc.image_file.file_id)\n",
    "                    if out_dir is not None:\n",
    "                        out_dir_path = Path(out_dir)\n",
    "                        if out_dir_path.exists():\n",
    "                            image_path = out_dir_path / (mc.image_file.file_id + \".png\")\n",
    "                            with image_path.open(\"wb\") as f:\n",
    "                                f.write(image_data.read())\n",
    "\n",
    "                if verbose:\n",
    "                    if prev_role == md.role:\n",
    "                        print(txt_val)\n",
    "                    else:\n",
    "                        print(\"{}:\\n{}\".format(display_role[md.role], txt_val))\n",
    "            prev_role = md.role\n",
    "        return messages\n",
    "    except Exception as e:\n",
    "        print(e)\n",
    "        return None"
   ]
  },
  {
   "cell_type": "markdown",
   "metadata": {},
   "source": [
    "#### ロジック アプリへ天気情報を要求する\n",
    "\n",
    "##### ロジック アプリ を経由し MSN Weather の API から天気情報を得る\n",
    "\n",
    "下図水色の部分の実装\n",
    "\n",
    "```mermaid\n",
    "sequenceDiagram\n",
    "    autonumber\n",
    "    actor me\n",
    "    participant VSCode (Notebook)\n",
    "    participant Azure OpenAI Service\n",
    "    participant Logic Apps\n",
    "    participant MSN Weather\n",
    "\n",
    "    me ->> +VSCode (Notebook):  今日の東京都港区港南の天気を教えてください\n",
    "    VSCode (Notebook)->> +Azure OpenAI Service: 今日の東京都港区港南の天気を教えてください\n",
    "    loop HealthCheck\n",
    "\n",
    "        VSCode (Notebook)->>+VSCode (Notebook): Azure OpenAI Service 確認中\n",
    "        Note left of Azure OpenAI Service: requires_action\n",
    "        Azure OpenAI Service->> -VSCode (Notebook): 東京都港区港南\n",
    "        rect rgb(191, 223, 255)\n",
    "            VSCode (Notebook)->>+Logic Apps: 東京都港区港南\n",
    "            Logic Apps->>+MSN Weather: 東京都港区港南\n",
    "            MSN Weather->>-Logic Apps: {\"responses\": {\"daily\": {\"day\":      {\"cap\":\"Mostlysunny\",...{        \"cap\": \"Mostly sunny\",   ...\n",
    "            Logic Apps->>-VSCode (Notebook): {\"responses\": {\"daily\": {\"day\":      {\"cap\":\"Mostlysunny\",...{        \"cap\": \"Mostly sunny\",   ...\n",
    "        end\n",
    "        VSCode (Notebook)->>+Azure OpenAI Service: {\"responses\": {\"daily\": {\"day\":      {\"cap\":\"Mostlysunny\",...{        \"cap\": \"Mostly sunny\",   ...\n",
    "        Azure OpenAI Service->>-VSCode (Notebook): 今日の東京都港区港南の天気は晴れです。\n",
    "        VSCode (Notebook)->>-VSCode (Notebook): Azure OpenAI Service 確認完了\n",
    "    end\n",
    "\n",
    "    VSCode (Notebook)->>+Azure OpenAI Service: 対象スレッドから応答メッセージの取得要求\n",
    "    Azure OpenAI Service->>-VSCode (Notebook)　: 対象スレッドから応答メッセージの応答\n",
    "    VSCode (Notebook)->>-me: 今日の東京都港区港南の天気は晴れです。\n",
    "\n",
    "```\n"
   ]
  },
  {
   "cell_type": "code",
   "execution_count": null,
   "metadata": {},
   "outputs": [],
   "source": [
    "def get_weather(location):\n",
    "    import urllib.request\n",
    "\n",
    "    try:\n",
    "        url = os.getenv(\"GET_WEATHER_URL\")\n",
    "\n",
    "        data = {\"location\": location}\n",
    "\n",
    "        headers = {\"Content-Type\": \"application/json\"}\n",
    "\n",
    "        req = urllib.request.Request(url, json.dumps(data).encode(), headers)\n",
    "        body = None\n",
    "        with urllib.request.urlopen(req) as res:\n",
    "            body = json.load(res)\n",
    "\n",
    "        print(type(body))\n",
    "        weather_condition = body[\"responses\"][\"daily\"][\"day\"][\"cap\"]\n",
    "        temperature_hi = body[\"responses\"][\"daily\"][\"tempHi\"]\n",
    "        temperature_lo = body[\"responses\"][\"daily\"][\"tempLo\"]\n",
    "        return f\"\"\"Here is some information about the weather in {location}:\n",
    "            - The weather is: {weather_condition}.\n",
    "            - The highest temperature is: {temperature_hi} degrees Celsius.\n",
    "            - The Lowest Temperatures is: {temperature_lo} degrees Celsius.\n",
    "        \"\"\"\n",
    "    except Exception as e:\n",
    "        print(e)"
   ]
  },
  {
   "cell_type": "markdown",
   "metadata": {},
   "source": [
    "#### 天気取得のテストコード\n",
    "\n",
    "##### `東京都港区港南`の箇所を変更し好きな場所の天気を手に入れてみましょう\n"
   ]
  },
  {
   "cell_type": "code",
   "execution_count": null,
   "metadata": {},
   "outputs": [],
   "source": [
    "get_weather(location=\"東京都港区港南\")"
   ]
  },
  {
   "cell_type": "markdown",
   "metadata": {},
   "source": [
    "#### アシスタントの作成\n",
    "\n",
    "##### Assistant のインスタンスを作成\n",
    "\n",
    "<p>作成の中で、Assitant のが使うtools の内容を宣言する。</p>\n",
    "このロジックでは `code_interpreter`と`function`の`get_weather`を使うように定義している\n"
   ]
  },
  {
   "cell_type": "code",
   "execution_count": null,
   "metadata": {},
   "outputs": [],
   "source": [
    "assistant = client.beta.assistants.create(\n",
    "    name=\"Weather Forcast\",\n",
    "    instructions=f\"You are a helpful AI assistant who makes forecasting the weather based on data.\"\n",
    "    f\"You have access to a sandboxed environment for writing and testing code.\"\n",
    "    f\"When you are asked to create a visualization you should follow these steps:\"\n",
    "    f\"1. Write the code.\"\n",
    "    f\"2. Anytime you write new code display a preview of the code to show your work.\"\n",
    "    f\"3. Run the code to confirm that it runs.\"\n",
    "    f\"4. To forecast the weather, use get_weather defined in the tool.\"\n",
    "    f\"5. If the code is unsuccessful display the error message and try to revise the code and rerun going through the steps from above again.\",\n",
    "    tools=[\n",
    "        {\"type\": \"code_interpreter\"},\n",
    "        {\n",
    "            \"type\": \"function\",\n",
    "            \"function\": {\n",
    "                \"name\": \"get_weather\",\n",
    "                \"description\": \"\",\n",
    "                \"parameters\": {\n",
    "                    \"type\": \"object\",\n",
    "                    \"properties\": {\n",
    "                        \"location\": {\n",
    "                            \"type\": \"string\",\n",
    "                            \"description\": \"場所の検索クエリ。 都市、地域、都道府県、国、ランドマーク、郵便番号、緯度、経度を入力できます\",\n",
    "                        }\n",
    "                    },\n",
    "                    \"required\": [\"location\"],\n",
    "                },\n",
    "            },\n",
    "        },\n",
    "    ],\n",
    "    model=f\"{os.getenv(\"AZURE_OPENAI_MODEL_NAME\")}\",  # You must replace this value with the deployment name for your model.\n",
    ")"
   ]
  },
  {
   "cell_type": "markdown",
   "metadata": {},
   "source": [
    "<p>アシスタントインスタンスの出力</p>\n",
    "とりあえず、アシスタントインスタンスを出力していみる\n"
   ]
  },
  {
   "cell_type": "code",
   "execution_count": null,
   "metadata": {},
   "outputs": [],
   "source": [
    "print(assistant)"
   ]
  },
  {
   "cell_type": "markdown",
   "metadata": {},
   "source": [
    "#### アシスタントの内容の出力\n",
    "\n",
    "アシスタントインスタンスの内容を JSON でダンプしてみる\n"
   ]
  },
  {
   "cell_type": "code",
   "execution_count": null,
   "metadata": {},
   "outputs": [],
   "source": [
    "print(assistant.model_dump_json(indent=2))"
   ]
  },
  {
   "cell_type": "markdown",
   "metadata": {},
   "source": [
    "#### スレッドを作成\n",
    "\n",
    "実際に Azure OpenAI に問い合わせ、解析するための実行環境(スレッド)を作成する\n"
   ]
  },
  {
   "cell_type": "code",
   "execution_count": null,
   "metadata": {},
   "outputs": [],
   "source": [
    "thread = client.beta.threads.create()\n",
    "print(thread)"
   ]
  },
  {
   "cell_type": "markdown",
   "metadata": {},
   "source": [
    "#### スレッドに追加する質問を作成\n",
    "\n",
    "スレッドにどんなコンテキスト（質問）にするかを定義する\n"
   ]
  },
  {
   "cell_type": "code",
   "execution_count": null,
   "metadata": {},
   "outputs": [],
   "source": [
    "# Add a user question to the thread\n",
    "message = client.beta.threads.messages.create(\n",
    "    thread_id=thread.id, role=\"user\", content=\"現在の天気を答えてください\"\n",
    ")"
   ]
  },
  {
   "cell_type": "markdown",
   "metadata": {},
   "source": [
    "#### スレッド メッセージを一覧表示する\n",
    "\n",
    "作成したスレッド一覧を表示してみます\n"
   ]
  },
  {
   "cell_type": "code",
   "execution_count": null,
   "metadata": {},
   "outputs": [],
   "source": [
    "thread_messages = client.beta.threads.messages.list(thread.id)\n",
    "print(thread_messages.model_dump_json(indent=2))"
   ]
  },
  {
   "cell_type": "markdown",
   "metadata": {},
   "source": [
    "#### スレッドを実行する\n",
    "\n",
    "作成したスレッドを実際に実行してみます\n"
   ]
  },
  {
   "cell_type": "code",
   "execution_count": null,
   "metadata": {},
   "outputs": [],
   "source": [
    "run = client.beta.threads.runs.create(\n",
    "    thread_id=thread.id,\n",
    "    assistant_id=assistant.id,\n",
    "    instructions=\"今日の東京都港区港南の天気を教えてください。\",\n",
    ")\n",
    "available_functions = {\"get_weather\": get_weather}\n",
    "verbose_output = True\n"
   ]
  },
  {
   "cell_type": "markdown",
   "metadata": {},
   "source": [
    "#### スレッドの完了待ち\n",
    "\n",
    "走らせたスレッドの完了を待ちます\n"
   ]
  },
  {
   "cell_type": "code",
   "execution_count": null,
   "metadata": {},
   "outputs": [],
   "source": [
    "poll_run_till_completion(\n",
    "    client=client,\n",
    "    thread_id=thread.id,\n",
    "    run_id=run.id,\n",
    "    available_functions=available_functions,\n",
    "    verbose=verbose_output,\n",
    ")"
   ]
  },
  {
   "cell_type": "markdown",
   "metadata": {},
   "source": [
    "#### メッセージの生成\n",
    "\n",
    "スレッドの完了後、完了したスレッドからメッセージを取得します\n"
   ]
  },
  {
   "cell_type": "code",
   "execution_count": null,
   "metadata": {},
   "outputs": [],
   "source": [
    "messages = retrieve_and_print_messages(\n",
    "    client=client, thread_id=thread.id, verbose=verbose_output\n",
    ")"
   ]
  },
  {
   "cell_type": "markdown",
   "metadata": {},
   "source": [
    "#### メッセージの出力\n",
    "\n",
    "取得したメッセージを出力します\n"
   ]
  },
  {
   "cell_type": "code",
   "execution_count": null,
   "metadata": {},
   "outputs": [],
   "source": [
    "print(message)"
   ]
  },
  {
   "cell_type": "markdown",
   "metadata": {},
   "source": [
    "[Azure OpenAI + Logic Apps で天気を取得する(準備編)](./docs/logic-apps.markdown)\n",
    "\n",
    "[README に戻る](./README.markdown)\n"
   ]
  }
 ],
 "metadata": {
  "kernelspec": {
   "display_name": "extension-lectures",
   "language": "python",
   "name": "python3"
  },
  "language_info": {
   "codemirror_mode": {
    "name": "ipython",
    "version": 3
   },
   "file_extension": ".py",
   "mimetype": "text/x-python",
   "name": "python",
   "nbconvert_exporter": "python",
   "pygments_lexer": "ipython3",
   "version": "3.12.5"
  }
 },
 "nbformat": 4,
 "nbformat_minor": 2
}
